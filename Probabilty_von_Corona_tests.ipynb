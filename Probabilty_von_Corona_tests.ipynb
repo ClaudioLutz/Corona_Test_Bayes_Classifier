{
 "cells": [
  {
   "cell_type": "code",
   "execution_count": 82,
   "metadata": {},
   "outputs": [
    {
     "name": "stdout",
     "output_type": "stream",
     "text": [
      "Prozentualer Anteil aktuell positiver an Weltbevölkerung: 0.2577303670886076%\n",
      "Wahrscheinlichkeit, dass bei einem zu 100% sicheren positivem Corona-Test eine Krankheit vorliegt: 100.0%\n"
     ]
    }
   ],
   "source": [
    "import numpy as np\n",
    "\n",
    "Welt = 7900000000\n",
    "Total = 206631065.\n",
    "Genesene = 186270366\n",
    "Aktuell_Positive = Total - Genesene\n",
    "Corona_Warscheinlichkeit = Aktuell_Positive/Welt\n",
    "Prozent = Aktuell_Positive*100/Welt\n",
    "Prohunderttausend = Prozent*1000\n",
    "print('Prozentualer Anteil aktuell positiver an Weltbevölkerung: {}'.format(Prozent)+'%')\n",
    "\n",
    "#Wahrscheinlichkeit, dass der Corona-Test positiv ist und der Patient an Corona erkrankt ist.\n",
    "p_positive_given_disease = 1\n",
    "#Warscheinlichkeit, dass eine zufällig ausgelesene Person Corona hat.\n",
    "p_disease = Corona_Warscheinlichkeit\n",
    "\n",
    "p_positive = (Prohunderttausend / 100000 * p_positive_given_disease)+((100000-Prohunderttausend)/100000*(1-p_positive_given_disease))\n",
    "\n",
    "p_disease_given_positive = round((p_positive_given_disease) * (p_disease) / (p_positive),7)\n",
    "\n",
    "print(\"Wahrscheinlichkeit, dass bei einem zu {}\".format(p_positive_given_disease*100)+\"% sicheren positivem Corona-Test eine Krankheit vorliegt: {}\".format(p_disease_given_positive*100)+\"%\")\n"
   ]
  },
  {
   "cell_type": "code",
   "execution_count": 57,
   "metadata": {},
   "outputs": [
    {
     "name": "stdout",
     "output_type": "stream",
     "text": [
      "258.28883125000004\n"
     ]
    }
   ],
   "source": []
  },
  {
   "cell_type": "code",
   "execution_count": null,
   "metadata": {},
   "outputs": [],
   "source": []
  }
 ],
 "metadata": {
  "kernelspec": {
   "display_name": "Python 3",
   "language": "python",
   "name": "python3"
  },
  "language_info": {
   "codemirror_mode": {
    "name": "ipython",
    "version": 3
   },
   "file_extension": ".py",
   "mimetype": "text/x-python",
   "name": "python",
   "nbconvert_exporter": "python",
   "pygments_lexer": "ipython3",
   "version": "3.9.1"
  }
 },
 "nbformat": 4,
 "nbformat_minor": 4
}
