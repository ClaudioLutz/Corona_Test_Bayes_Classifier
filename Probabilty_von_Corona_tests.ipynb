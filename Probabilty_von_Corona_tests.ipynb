{
 "cells": [
  {
   "cell_type": "code",
   "execution_count": 1,
   "metadata": {},
   "outputs": [],
   "source": [
    "%config IPCompleter.greedy=True\n",
    "\n",
    "import requests\n",
    "import bs4\n",
    "import numpy as np"
   ]
  },
  {
   "cell_type": "markdown",
   "metadata": {},
   "source": [
    "Get Total active Cases from Worldometers.org\n",
    "= total_cases - total_deaths - total_recovered"
   ]
  },
  {
   "cell_type": "code",
   "execution_count": 2,
   "metadata": {},
   "outputs": [],
   "source": [
    "def get_html_data(url):\n",
    "    data = requests.get(url)\n",
    "    return data\n",
    "\n",
    "def get_covid_active_cases():\n",
    "    url = \"https://www.worldometers.info/coronavirus/\"\n",
    "    html_data = get_html_data(url)\n",
    "    bs = bs4.BeautifulSoup(html_data.text, 'html.parser')\n",
    "    info_div = bs.find('div', class_ = 'content-inner').findAll('div', id = 'maincounter-wrap')\n",
    "    all_data = []\n",
    "    for block in info_div:\n",
    "        #text = block.find('h1', class_=None).get_text()\n",
    "        count = block.find('span',class_=None).get_text()\n",
    "        all_data.append(count)\n",
    "    total_cases = int(all_data[0].replace(',',''))\n",
    "    total_deaths = int(all_data[1].replace(',',''))\n",
    "    total_recovered = int(all_data[2].replace(',',''))\n",
    "    \n",
    "    return(total_cases-total_deaths-total_recovered)"
   ]
  },
  {
   "cell_type": "markdown",
   "metadata": {},
   "source": [
    "![title](bayes.svg)"
   ]
  },
  {
   "cell_type": "markdown",
   "metadata": {},
   "source": [
    "![title](bayes_rare_disease.PNG)"
   ]
  },
  {
   "cell_type": "code",
   "execution_count": 8,
   "metadata": {},
   "outputs": [
    {
     "name": "stdout",
     "output_type": "stream",
     "text": [
      "Prozentualer Anteil aktuell positiver an Weltbevölkerung: 0.23%\n",
      "Wahrscheinlichkeit, dass bei einem zu 99.0% sicheren positivem Corona-Test eine Krankheit vorliegt: 18.39%\n"
     ]
    }
   ],
   "source": [
    "Welt = 7900000000\n",
    "Aktuell_Positive = get_covid_active_cases()\n",
    "Corona_Warscheinlichkeit = Aktuell_Positive/Welt\n",
    "Prozent = Aktuell_Positive*100/Welt\n",
    "Prohunderttausend = Prozent*1000\n",
    "print('Prozentualer Anteil aktuell positiver an Weltbevölkerung: {}'.format(round(Prozent,2))+'%')\n",
    "\n",
    "#Wahrscheinlichkeit, dass der Corona-Test positiv ist und der Patient an Corona erkrankt ist.\n",
    "p_positive_given_disease = 0.99\n",
    "#Warscheinlichkeit, dass eine zufällig ausgelesene Person Corona hat.\n",
    "p_disease = Corona_Warscheinlichkeit\n",
    "\n",
    "p_positive = (Prohunderttausend / 100000 * p_positive_given_disease)+((100000-Prohunderttausend)/100000*(1-p_positive_given_disease))\n",
    "\n",
    "p_disease_given_positive = round((p_positive_given_disease) * (p_disease) / (p_positive),7)\n",
    "\n",
    "print(\"Wahrscheinlichkeit, dass bei einem zu {}\".format(p_positive_given_disease*100)+\"% sicheren positivem Corona-Test eine Krankheit vorliegt: {}\".format(round(p_disease_given_positive*100,2))+\"%\")\n"
   ]
  }
 ],
 "metadata": {
  "kernelspec": {
   "display_name": "Python 3",
   "language": "python",
   "name": "python3"
  },
  "language_info": {
   "codemirror_mode": {
    "name": "ipython",
    "version": 3
   },
   "file_extension": ".py",
   "mimetype": "text/x-python",
   "name": "python",
   "nbconvert_exporter": "python",
   "pygments_lexer": "ipython3",
   "version": "3.9.1"
  }
 },
 "nbformat": 4,
 "nbformat_minor": 4
}
